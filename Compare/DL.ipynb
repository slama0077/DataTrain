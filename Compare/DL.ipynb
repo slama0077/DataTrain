{
 "cells": [
  {
   "cell_type": "code",
   "execution_count": 5,
   "metadata": {},
   "outputs": [],
   "source": [
    "import numpy as np\n",
    "import LoadData as ld\n",
    "import matplotlib.pyplot as plt\n",
    "from sklearn.discriminant_analysis import LinearDiscriminantAnalysis\n",
    "from sklearn.metrics import confusion_matrix\n",
    "from sklearn.decomposition import PCA\n",
    "from sklearn.linear_model import LogisticRegression\n",
    "import mne\n",
    "from time import perf_counter\n",
    "import keras\n",
    "import tensorflow as tf\n",
    "\n",
    "\n",
    "def createChannelInfo(no_channels):\n",
    "    '''This function creates an info object \n",
    "    that is required later to convert the eeg data from np data\n",
    "    to mne.io.raw data.\n",
    "\n",
    "    no_channels: number of channels used in the eeg data\n",
    "\n",
    "    returns info object\n",
    "    '''\n",
    "    ch_names = []\n",
    "    for i in range(no_channels):\n",
    "        ch_names.append('Channel' +\"-\"+ str(i))   #for this code I have just created dummy channel names. We can have actual channel names\n",
    "    info = mne.create_info(ch_names = ch_names, sfreq = 250, ch_types='eeg') \n",
    "    return info \n",
    "\n",
    "def bandPassFilterReshape(raw_data, info):\n",
    "    '''\n",
    "    First converts the np data into mne.io.raw data and\n",
    "    uses createEpoch funcn to convert the data into epochs\n",
    "    raw_data : eeg data\n",
    "    info: info object we created before which has information about the channel\n",
    "    \n",
    "    returns epoch data which will be applied for CSP\n",
    "    '''\n",
    "    raw_data = np.transpose(raw_data)\n",
    "    features = mne.io.RawArray(raw_data, info)\n",
    "    features.filter(7.0, 40.0)\n",
    "    features_data = features.get_data()\n",
    "    features_data = np.transpose(features_data)\n",
    "    # features_data = createEpoch(features_data, 250, 64)\n",
    "    return features_data"
   ]
  },
  {
   "cell_type": "code",
   "execution_count": 6,
   "metadata": {},
   "outputs": [
    {
     "name": "stdout",
     "output_type": "stream",
     "text": [
      "The file name provided is correct. Thank you!\n",
      "The file name provided is correct. Thank you!\n",
      "The file name provided is correct. Thank you!\n",
      "The file name provided is correct. Thank you!\n",
      "Creating RawArray with float64 data, n_channels=22, n_times=51750\n",
      "    Range : 0 ... 51749 =      0.000 ...   206.996 secs\n",
      "Ready.\n",
      "Filtering raw data in 1 contiguous segment\n",
      "Setting up band-pass filter from 7 - 40 Hz\n",
      "\n",
      "FIR filter parameters\n",
      "---------------------\n",
      "Designing a one-pass, zero-phase, non-causal bandpass filter:\n",
      "- Windowed time-domain design (firwin) method\n",
      "- Hamming window with 0.0194 passband ripple and 53 dB stopband attenuation\n",
      "- Lower passband edge: 7.00\n",
      "- Lower transition bandwidth: 2.00 Hz (-6 dB cutoff frequency: 6.00 Hz)\n",
      "- Upper passband edge: 40.00 Hz\n",
      "- Upper transition bandwidth: 10.00 Hz (-6 dB cutoff frequency: 45.00 Hz)\n",
      "- Filter length: 413 samples (1.652 s)\n",
      "\n",
      "Creating RawArray with float64 data, n_channels=22, n_times=51750\n",
      "    Range : 0 ... 51749 =      0.000 ...   206.996 secs\n",
      "Ready.\n",
      "Filtering raw data in 1 contiguous segment\n",
      "Setting up band-pass filter from 7 - 40 Hz\n",
      "\n",
      "FIR filter parameters\n",
      "---------------------\n",
      "Designing a one-pass, zero-phase, non-causal bandpass filter:\n",
      "- Windowed time-domain design (firwin) method\n",
      "- Hamming window with 0.0194 passband ripple and 53 dB stopband attenuation\n",
      "- Lower passband edge: 7.00\n",
      "- Lower transition bandwidth: 2.00 Hz (-6 dB cutoff frequency: 6.00 Hz)\n",
      "- Upper passband edge: 40.00 Hz\n",
      "- Upper transition bandwidth: 10.00 Hz (-6 dB cutoff frequency: 45.00 Hz)\n",
      "- Filter length: 413 samples (1.652 s)\n",
      "\n",
      "Creating RawArray with float64 data, n_channels=22, n_times=52500\n",
      "    Range : 0 ... 52499 =      0.000 ...   209.996 secs\n",
      "Ready.\n",
      "Filtering raw data in 1 contiguous segment\n",
      "Setting up band-pass filter from 7 - 40 Hz\n",
      "\n",
      "FIR filter parameters\n",
      "---------------------\n",
      "Designing a one-pass, zero-phase, non-causal bandpass filter:\n",
      "- Windowed time-domain design (firwin) method\n",
      "- Hamming window with 0.0194 passband ripple and 53 dB stopband attenuation\n",
      "- Lower passband edge: 7.00\n",
      "- Lower transition bandwidth: 2.00 Hz (-6 dB cutoff frequency: 6.00 Hz)\n",
      "- Upper passband edge: 40.00 Hz\n",
      "- Upper transition bandwidth: 10.00 Hz (-6 dB cutoff frequency: 45.00 Hz)\n",
      "- Filter length: 413 samples (1.652 s)\n",
      "\n"
     ]
    },
    {
     "name": "stderr",
     "output_type": "stream",
     "text": [
      "[Parallel(n_jobs=1)]: Done  17 tasks      | elapsed:    0.0s\n",
      "[Parallel(n_jobs=1)]: Done  17 tasks      | elapsed:    0.0s\n",
      "[Parallel(n_jobs=1)]: Done  17 tasks      | elapsed:    0.0s\n"
     ]
    },
    {
     "name": "stdout",
     "output_type": "stream",
     "text": [
      "Creating RawArray with float64 data, n_channels=22, n_times=53250\n",
      "    Range : 0 ... 53249 =      0.000 ...   212.996 secs\n",
      "Ready.\n",
      "Filtering raw data in 1 contiguous segment\n",
      "Setting up band-pass filter from 7 - 40 Hz\n",
      "\n",
      "FIR filter parameters\n",
      "---------------------\n",
      "Designing a one-pass, zero-phase, non-causal bandpass filter:\n",
      "- Windowed time-domain design (firwin) method\n",
      "- Hamming window with 0.0194 passband ripple and 53 dB stopband attenuation\n",
      "- Lower passband edge: 7.00\n",
      "- Lower transition bandwidth: 2.00 Hz (-6 dB cutoff frequency: 6.00 Hz)\n",
      "- Upper passband edge: 40.00 Hz\n",
      "- Upper transition bandwidth: 10.00 Hz (-6 dB cutoff frequency: 45.00 Hz)\n",
      "- Filter length: 413 samples (1.652 s)\n",
      "\n"
     ]
    },
    {
     "name": "stderr",
     "output_type": "stream",
     "text": [
      "[Parallel(n_jobs=1)]: Done  17 tasks      | elapsed:    0.0s\n"
     ]
    }
   ],
   "source": [
    "raw_data_hand = ld.loadData()   \n",
    "raw_data_feet = ld.loadData()    #loading eeg data of any two movements of ur choosing\n",
    "\n",
    "test_data_hand = ld.loadData()\n",
    "test_data_feet = ld.loadData() \n",
    "\n",
    "info = createChannelInfo(22)     #we will need the info object to convert the eeg data from np data to raw_eeg data which we will need for bandpass filtering\n",
    "\n",
    "features_hand = bandPassFilterReshape(raw_data_hand, info)   #this converts the eeg data into epochs, which will be needed for CSP\n",
    "features_feet = bandPassFilterReshape(raw_data_feet, info)\n",
    "\n",
    "features_test_hand = bandPassFilterReshape(test_data_hand, info)\n",
    "features_test_feet = bandPassFilterReshape(test_data_feet, info)"
   ]
  },
  {
   "cell_type": "code",
   "execution_count": 3,
   "metadata": {},
   "outputs": [],
   "source": [
    "features = np.concatenate((features_hand, features_feet))\n",
    "\n",
    "features_test = np.concatenate((features_test_hand, features_test_feet))\n",
    "label_test = np.concatenate((np.zeros(features_test_hand.shape[0]), np.ones(features_test_feet.shape[0])))\n",
    "\n",
    "dataset_test = tf.data.Dataset.from_tensor_slices((features_test, label_test))\n",
    "dataset_test = dataset_test.shuffle(buffer_size = features_test.shape[0]).batch(32)\n",
    "\n",
    "\n",
    "label = np.concatenate((np.zeros(features_hand.shape[0]), np.ones(features_feet.shape[0])))\n",
    "\n",
    "dataset = tf.data.Dataset.from_tensor_slices((features, label))\n",
    "\n",
    "dataset = dataset.shuffle(buffer_size= features.shape[0]).batch(32)\n",
    "\n",
    "# print(dataset_test)"
   ]
  },
  {
   "cell_type": "code",
   "execution_count": 7,
   "metadata": {},
   "outputs": [
    {
     "data": {
      "text/html": [
       "<pre style=\"white-space:pre;overflow-x:auto;line-height:normal;font-family:Menlo,'DejaVu Sans Mono',consolas,'Courier New',monospace\"><span style=\"font-weight: bold\">Model: \"functional_3\"</span>\n",
       "</pre>\n"
      ],
      "text/plain": [
       "\u001b[1mModel: \"functional_3\"\u001b[0m\n"
      ]
     },
     "metadata": {},
     "output_type": "display_data"
    },
    {
     "data": {
      "text/html": [
       "<pre style=\"white-space:pre;overflow-x:auto;line-height:normal;font-family:Menlo,'DejaVu Sans Mono',consolas,'Courier New',monospace\">┏━━━━━━━━━━━━━━━━━━━━━━━━━━━━━━━━━┳━━━━━━━━━━━━━━━━━━━━━━━━┳━━━━━━━━━━━━━━━┓\n",
       "┃<span style=\"font-weight: bold\"> Layer (type)                    </span>┃<span style=\"font-weight: bold\"> Output Shape           </span>┃<span style=\"font-weight: bold\">       Param # </span>┃\n",
       "┡━━━━━━━━━━━━━━━━━━━━━━━━━━━━━━━━━╇━━━━━━━━━━━━━━━━━━━━━━━━╇━━━━━━━━━━━━━━━┩\n",
       "│ input_layer_1 (<span style=\"color: #0087ff; text-decoration-color: #0087ff\">InputLayer</span>)      │ (<span style=\"color: #00d7ff; text-decoration-color: #00d7ff\">None</span>, <span style=\"color: #00af00; text-decoration-color: #00af00\">22</span>)             │             <span style=\"color: #00af00; text-decoration-color: #00af00\">0</span> │\n",
       "├─────────────────────────────────┼────────────────────────┼───────────────┤\n",
       "│ dense_4 (<span style=\"color: #0087ff; text-decoration-color: #0087ff\">Dense</span>)                 │ (<span style=\"color: #00d7ff; text-decoration-color: #00d7ff\">None</span>, <span style=\"color: #00af00; text-decoration-color: #00af00\">128</span>)            │         <span style=\"color: #00af00; text-decoration-color: #00af00\">2,944</span> │\n",
       "├─────────────────────────────────┼────────────────────────┼───────────────┤\n",
       "│ dense_5 (<span style=\"color: #0087ff; text-decoration-color: #0087ff\">Dense</span>)                 │ (<span style=\"color: #00d7ff; text-decoration-color: #00d7ff\">None</span>, <span style=\"color: #00af00; text-decoration-color: #00af00\">128</span>)            │        <span style=\"color: #00af00; text-decoration-color: #00af00\">16,512</span> │\n",
       "├─────────────────────────────────┼────────────────────────┼───────────────┤\n",
       "│ dense_6 (<span style=\"color: #0087ff; text-decoration-color: #0087ff\">Dense</span>)                 │ (<span style=\"color: #00d7ff; text-decoration-color: #00d7ff\">None</span>, <span style=\"color: #00af00; text-decoration-color: #00af00\">128</span>)            │        <span style=\"color: #00af00; text-decoration-color: #00af00\">16,512</span> │\n",
       "├─────────────────────────────────┼────────────────────────┼───────────────┤\n",
       "│ dense_7 (<span style=\"color: #0087ff; text-decoration-color: #0087ff\">Dense</span>)                 │ (<span style=\"color: #00d7ff; text-decoration-color: #00d7ff\">None</span>, <span style=\"color: #00af00; text-decoration-color: #00af00\">2</span>)              │           <span style=\"color: #00af00; text-decoration-color: #00af00\">258</span> │\n",
       "└─────────────────────────────────┴────────────────────────┴───────────────┘\n",
       "</pre>\n"
      ],
      "text/plain": [
       "┏━━━━━━━━━━━━━━━━━━━━━━━━━━━━━━━━━┳━━━━━━━━━━━━━━━━━━━━━━━━┳━━━━━━━━━━━━━━━┓\n",
       "┃\u001b[1m \u001b[0m\u001b[1mLayer (type)                   \u001b[0m\u001b[1m \u001b[0m┃\u001b[1m \u001b[0m\u001b[1mOutput Shape          \u001b[0m\u001b[1m \u001b[0m┃\u001b[1m \u001b[0m\u001b[1m      Param #\u001b[0m\u001b[1m \u001b[0m┃\n",
       "┡━━━━━━━━━━━━━━━━━━━━━━━━━━━━━━━━━╇━━━━━━━━━━━━━━━━━━━━━━━━╇━━━━━━━━━━━━━━━┩\n",
       "│ input_layer_1 (\u001b[38;5;33mInputLayer\u001b[0m)      │ (\u001b[38;5;45mNone\u001b[0m, \u001b[38;5;34m22\u001b[0m)             │             \u001b[38;5;34m0\u001b[0m │\n",
       "├─────────────────────────────────┼────────────────────────┼───────────────┤\n",
       "│ dense_4 (\u001b[38;5;33mDense\u001b[0m)                 │ (\u001b[38;5;45mNone\u001b[0m, \u001b[38;5;34m128\u001b[0m)            │         \u001b[38;5;34m2,944\u001b[0m │\n",
       "├─────────────────────────────────┼────────────────────────┼───────────────┤\n",
       "│ dense_5 (\u001b[38;5;33mDense\u001b[0m)                 │ (\u001b[38;5;45mNone\u001b[0m, \u001b[38;5;34m128\u001b[0m)            │        \u001b[38;5;34m16,512\u001b[0m │\n",
       "├─────────────────────────────────┼────────────────────────┼───────────────┤\n",
       "│ dense_6 (\u001b[38;5;33mDense\u001b[0m)                 │ (\u001b[38;5;45mNone\u001b[0m, \u001b[38;5;34m128\u001b[0m)            │        \u001b[38;5;34m16,512\u001b[0m │\n",
       "├─────────────────────────────────┼────────────────────────┼───────────────┤\n",
       "│ dense_7 (\u001b[38;5;33mDense\u001b[0m)                 │ (\u001b[38;5;45mNone\u001b[0m, \u001b[38;5;34m2\u001b[0m)              │           \u001b[38;5;34m258\u001b[0m │\n",
       "└─────────────────────────────────┴────────────────────────┴───────────────┘\n"
      ]
     },
     "metadata": {},
     "output_type": "display_data"
    },
    {
     "data": {
      "text/html": [
       "<pre style=\"white-space:pre;overflow-x:auto;line-height:normal;font-family:Menlo,'DejaVu Sans Mono',consolas,'Courier New',monospace\"><span style=\"font-weight: bold\"> Total params: </span><span style=\"color: #00af00; text-decoration-color: #00af00\">36,226</span> (141.51 KB)\n",
       "</pre>\n"
      ],
      "text/plain": [
       "\u001b[1m Total params: \u001b[0m\u001b[38;5;34m36,226\u001b[0m (141.51 KB)\n"
      ]
     },
     "metadata": {},
     "output_type": "display_data"
    },
    {
     "data": {
      "text/html": [
       "<pre style=\"white-space:pre;overflow-x:auto;line-height:normal;font-family:Menlo,'DejaVu Sans Mono',consolas,'Courier New',monospace\"><span style=\"font-weight: bold\"> Trainable params: </span><span style=\"color: #00af00; text-decoration-color: #00af00\">36,226</span> (141.51 KB)\n",
       "</pre>\n"
      ],
      "text/plain": [
       "\u001b[1m Trainable params: \u001b[0m\u001b[38;5;34m36,226\u001b[0m (141.51 KB)\n"
      ]
     },
     "metadata": {},
     "output_type": "display_data"
    },
    {
     "data": {
      "text/html": [
       "<pre style=\"white-space:pre;overflow-x:auto;line-height:normal;font-family:Menlo,'DejaVu Sans Mono',consolas,'Courier New',monospace\"><span style=\"font-weight: bold\"> Non-trainable params: </span><span style=\"color: #00af00; text-decoration-color: #00af00\">0</span> (0.00 B)\n",
       "</pre>\n"
      ],
      "text/plain": [
       "\u001b[1m Non-trainable params: \u001b[0m\u001b[38;5;34m0\u001b[0m (0.00 B)\n"
      ]
     },
     "metadata": {},
     "output_type": "display_data"
    },
    {
     "name": "stdout",
     "output_type": "stream",
     "text": [
      "None\n"
     ]
    }
   ],
   "source": [
    "input = keras.Input(shape=(features.shape[1],))\n",
    "\n",
    "hl1 =  keras.layers.Dense(128, activation= keras.layers.LeakyReLU(0.3))(input)\n",
    "\n",
    "hl2 = keras.layers.Dense(128, activation= keras.layers.LeakyReLU(0.3))(hl1)\n",
    "\n",
    "hl3 = keras.layers.Dense(128, activation = keras.layers.LeakyReLU(0.3)) (hl2)\n",
    "\n",
    "output = keras.layers.Dense(2, activation = \"softmax\")(hl3)\n",
    "\n",
    "\n",
    "model =  keras.Model(input, output)\n",
    "\n",
    "print(model.summary())\n",
    "                                                     \n"
   ]
  },
  {
   "cell_type": "code",
   "execution_count": 8,
   "metadata": {},
   "outputs": [
    {
     "name": "stdout",
     "output_type": "stream",
     "text": [
      "Epoch 1/50\n",
      "\u001b[1m3235/3235\u001b[0m \u001b[32m━━━━━━━━━━━━━━━━━━━━\u001b[0m\u001b[37m\u001b[0m \u001b[1m11s\u001b[0m 3ms/step - accuracy: 0.5171 - loss: 0.7150 - val_accuracy: 0.5574 - val_loss: 0.6778\n",
      "Epoch 2/50\n",
      "\u001b[1m3235/3235\u001b[0m \u001b[32m━━━━━━━━━━━━━━━━━━━━\u001b[0m\u001b[37m\u001b[0m \u001b[1m6s\u001b[0m 2ms/step - accuracy: 0.5366 - loss: 0.6875 - val_accuracy: 0.5610 - val_loss: 0.6767\n",
      "Epoch 3/50\n",
      "\u001b[1m3235/3235\u001b[0m \u001b[32m━━━━━━━━━━━━━━━━━━━━\u001b[0m\u001b[37m\u001b[0m \u001b[1m6s\u001b[0m 2ms/step - accuracy: 0.5362 - loss: 0.6867 - val_accuracy: 0.5609 - val_loss: 0.6752\n",
      "Epoch 4/50\n",
      "\u001b[1m3235/3235\u001b[0m \u001b[32m━━━━━━━━━━━━━━━━━━━━\u001b[0m\u001b[37m\u001b[0m \u001b[1m6s\u001b[0m 2ms/step - accuracy: 0.5431 - loss: 0.6856 - val_accuracy: 0.5604 - val_loss: 0.6784\n",
      "Epoch 5/50\n",
      "\u001b[1m3235/3235\u001b[0m \u001b[32m━━━━━━━━━━━━━━━━━━━━\u001b[0m\u001b[37m\u001b[0m \u001b[1m8s\u001b[0m 2ms/step - accuracy: 0.5442 - loss: 0.6850 - val_accuracy: 0.5807 - val_loss: 0.6711\n",
      "Epoch 6/50\n",
      "\u001b[1m3235/3235\u001b[0m \u001b[32m━━━━━━━━━━━━━━━━━━━━\u001b[0m\u001b[37m\u001b[0m \u001b[1m6s\u001b[0m 2ms/step - accuracy: 0.5471 - loss: 0.6827 - val_accuracy: 0.5686 - val_loss: 0.6759\n",
      "Epoch 7/50\n",
      "\u001b[1m3235/3235\u001b[0m \u001b[32m━━━━━━━━━━━━━━━━━━━━\u001b[0m\u001b[37m\u001b[0m \u001b[1m7s\u001b[0m 2ms/step - accuracy: 0.5503 - loss: 0.6828 - val_accuracy: 0.5680 - val_loss: 0.6755\n",
      "Epoch 8/50\n",
      "\u001b[1m3235/3235\u001b[0m \u001b[32m━━━━━━━━━━━━━━━━━━━━\u001b[0m\u001b[37m\u001b[0m \u001b[1m6s\u001b[0m 2ms/step - accuracy: 0.5540 - loss: 0.6811 - val_accuracy: 0.5710 - val_loss: 0.6693\n",
      "Epoch 9/50\n",
      "\u001b[1m3235/3235\u001b[0m \u001b[32m━━━━━━━━━━━━━━━━━━━━\u001b[0m\u001b[37m\u001b[0m \u001b[1m6s\u001b[0m 2ms/step - accuracy: 0.5511 - loss: 0.6818 - val_accuracy: 0.5768 - val_loss: 0.6679\n",
      "Epoch 10/50\n",
      "\u001b[1m3235/3235\u001b[0m \u001b[32m━━━━━━━━━━━━━━━━━━━━\u001b[0m\u001b[37m\u001b[0m \u001b[1m6s\u001b[0m 2ms/step - accuracy: 0.5534 - loss: 0.6803 - val_accuracy: 0.5784 - val_loss: 0.6661\n",
      "Epoch 11/50\n",
      "\u001b[1m3235/3235\u001b[0m \u001b[32m━━━━━━━━━━━━━━━━━━━━\u001b[0m\u001b[37m\u001b[0m \u001b[1m6s\u001b[0m 2ms/step - accuracy: 0.5546 - loss: 0.6802 - val_accuracy: 0.5846 - val_loss: 0.6661\n",
      "Epoch 12/50\n",
      "\u001b[1m3235/3235\u001b[0m \u001b[32m━━━━━━━━━━━━━━━━━━━━\u001b[0m\u001b[37m\u001b[0m \u001b[1m8s\u001b[0m 2ms/step - accuracy: 0.5589 - loss: 0.6780 - val_accuracy: 0.5824 - val_loss: 0.6626\n",
      "Epoch 13/50\n",
      "\u001b[1m3235/3235\u001b[0m \u001b[32m━━━━━━━━━━━━━━━━━━━━\u001b[0m\u001b[37m\u001b[0m \u001b[1m7s\u001b[0m 2ms/step - accuracy: 0.5588 - loss: 0.6787 - val_accuracy: 0.5716 - val_loss: 0.6669\n",
      "Epoch 14/50\n",
      "\u001b[1m3235/3235\u001b[0m \u001b[32m━━━━━━━━━━━━━━━━━━━━\u001b[0m\u001b[37m\u001b[0m \u001b[1m6s\u001b[0m 2ms/step - accuracy: 0.5607 - loss: 0.6777 - val_accuracy: 0.5828 - val_loss: 0.6637\n",
      "Epoch 15/50\n",
      "\u001b[1m3235/3235\u001b[0m \u001b[32m━━━━━━━━━━━━━━━━━━━━\u001b[0m\u001b[37m\u001b[0m \u001b[1m6s\u001b[0m 2ms/step - accuracy: 0.5608 - loss: 0.6780 - val_accuracy: 0.5827 - val_loss: 0.6684\n",
      "Epoch 16/50\n",
      "\u001b[1m3235/3235\u001b[0m \u001b[32m━━━━━━━━━━━━━━━━━━━━\u001b[0m\u001b[37m\u001b[0m \u001b[1m6s\u001b[0m 2ms/step - accuracy: 0.5592 - loss: 0.6779 - val_accuracy: 0.5748 - val_loss: 0.6666\n",
      "Epoch 17/50\n",
      "\u001b[1m3235/3235\u001b[0m \u001b[32m━━━━━━━━━━━━━━━━━━━━\u001b[0m\u001b[37m\u001b[0m \u001b[1m6s\u001b[0m 2ms/step - accuracy: 0.5587 - loss: 0.6786 - val_accuracy: 0.5763 - val_loss: 0.6643\n",
      "Epoch 18/50\n",
      "\u001b[1m3235/3235\u001b[0m \u001b[32m━━━━━━━━━━━━━━━━━━━━\u001b[0m\u001b[37m\u001b[0m \u001b[1m6s\u001b[0m 2ms/step - accuracy: 0.5619 - loss: 0.6767 - val_accuracy: 0.5660 - val_loss: 0.6667\n",
      "Epoch 19/50\n",
      "\u001b[1m3235/3235\u001b[0m \u001b[32m━━━━━━━━━━━━━━━━━━━━\u001b[0m\u001b[37m\u001b[0m \u001b[1m6s\u001b[0m 2ms/step - accuracy: 0.5636 - loss: 0.6769 - val_accuracy: 0.5865 - val_loss: 0.6630\n",
      "Epoch 20/50\n",
      "\u001b[1m3235/3235\u001b[0m \u001b[32m━━━━━━━━━━━━━━━━━━━━\u001b[0m\u001b[37m\u001b[0m \u001b[1m7s\u001b[0m 2ms/step - accuracy: 0.5661 - loss: 0.6751 - val_accuracy: 0.5862 - val_loss: 0.6632\n",
      "Epoch 21/50\n",
      "\u001b[1m3235/3235\u001b[0m \u001b[32m━━━━━━━━━━━━━━━━━━━━\u001b[0m\u001b[37m\u001b[0m \u001b[1m7s\u001b[0m 2ms/step - accuracy: 0.5656 - loss: 0.6760 - val_accuracy: 0.5816 - val_loss: 0.6626\n",
      "Epoch 22/50\n",
      "\u001b[1m3235/3235\u001b[0m \u001b[32m━━━━━━━━━━━━━━━━━━━━\u001b[0m\u001b[37m\u001b[0m \u001b[1m6s\u001b[0m 2ms/step - accuracy: 0.5666 - loss: 0.6747 - val_accuracy: 0.5877 - val_loss: 0.6580\n",
      "Epoch 23/50\n",
      "\u001b[1m3235/3235\u001b[0m \u001b[32m━━━━━━━━━━━━━━━━━━━━\u001b[0m\u001b[37m\u001b[0m \u001b[1m6s\u001b[0m 2ms/step - accuracy: 0.5625 - loss: 0.6750 - val_accuracy: 0.5833 - val_loss: 0.6621\n",
      "Epoch 24/50\n",
      "\u001b[1m3235/3235\u001b[0m \u001b[32m━━━━━━━━━━━━━━━━━━━━\u001b[0m\u001b[37m\u001b[0m \u001b[1m6s\u001b[0m 2ms/step - accuracy: 0.5666 - loss: 0.6738 - val_accuracy: 0.5694 - val_loss: 0.6693\n",
      "Epoch 25/50\n",
      "\u001b[1m3235/3235\u001b[0m \u001b[32m━━━━━━━━━━━━━━━━━━━━\u001b[0m\u001b[37m\u001b[0m \u001b[1m6s\u001b[0m 2ms/step - accuracy: 0.5658 - loss: 0.6752 - val_accuracy: 0.5736 - val_loss: 0.6619\n",
      "Epoch 26/50\n",
      "\u001b[1m3235/3235\u001b[0m \u001b[32m━━━━━━━━━━━━━━━━━━━━\u001b[0m\u001b[37m\u001b[0m \u001b[1m7s\u001b[0m 2ms/step - accuracy: 0.5637 - loss: 0.6747 - val_accuracy: 0.5742 - val_loss: 0.6720\n",
      "Epoch 27/50\n",
      "\u001b[1m3235/3235\u001b[0m \u001b[32m━━━━━━━━━━━━━━━━━━━━\u001b[0m\u001b[37m\u001b[0m \u001b[1m7s\u001b[0m 2ms/step - accuracy: 0.5647 - loss: 0.6756 - val_accuracy: 0.5847 - val_loss: 0.6634\n",
      "Epoch 28/50\n",
      "\u001b[1m3235/3235\u001b[0m \u001b[32m━━━━━━━━━━━━━━━━━━━━\u001b[0m\u001b[37m\u001b[0m \u001b[1m7s\u001b[0m 2ms/step - accuracy: 0.5699 - loss: 0.6725 - val_accuracy: 0.5849 - val_loss: 0.6630\n",
      "Epoch 29/50\n",
      "\u001b[1m3235/3235\u001b[0m \u001b[32m━━━━━━━━━━━━━━━━━━━━\u001b[0m\u001b[37m\u001b[0m \u001b[1m6s\u001b[0m 2ms/step - accuracy: 0.5678 - loss: 0.6731 - val_accuracy: 0.5747 - val_loss: 0.6678\n",
      "Epoch 30/50\n",
      "\u001b[1m3235/3235\u001b[0m \u001b[32m━━━━━━━━━━━━━━━━━━━━\u001b[0m\u001b[37m\u001b[0m \u001b[1m6s\u001b[0m 2ms/step - accuracy: 0.5713 - loss: 0.6732 - val_accuracy: 0.5797 - val_loss: 0.6645\n",
      "Epoch 31/50\n",
      "\u001b[1m3235/3235\u001b[0m \u001b[32m━━━━━━━━━━━━━━━━━━━━\u001b[0m\u001b[37m\u001b[0m \u001b[1m6s\u001b[0m 2ms/step - accuracy: 0.5717 - loss: 0.6721 - val_accuracy: 0.5772 - val_loss: 0.6632\n",
      "Epoch 32/50\n",
      "\u001b[1m3235/3235\u001b[0m \u001b[32m━━━━━━━━━━━━━━━━━━━━\u001b[0m\u001b[37m\u001b[0m \u001b[1m6s\u001b[0m 2ms/step - accuracy: 0.5717 - loss: 0.6714 - val_accuracy: 0.5812 - val_loss: 0.6640\n",
      "Epoch 33/50\n",
      "\u001b[1m3235/3235\u001b[0m \u001b[32m━━━━━━━━━━━━━━━━━━━━\u001b[0m\u001b[37m\u001b[0m \u001b[1m7s\u001b[0m 2ms/step - accuracy: 0.5702 - loss: 0.6720 - val_accuracy: 0.5853 - val_loss: 0.6597\n",
      "Epoch 34/50\n",
      "\u001b[1m3235/3235\u001b[0m \u001b[32m━━━━━━━━━━━━━━━━━━━━\u001b[0m\u001b[37m\u001b[0m \u001b[1m7s\u001b[0m 2ms/step - accuracy: 0.5695 - loss: 0.6714 - val_accuracy: 0.5812 - val_loss: 0.6612\n",
      "Epoch 35/50\n",
      "\u001b[1m3235/3235\u001b[0m \u001b[32m━━━━━━━━━━━━━━━━━━━━\u001b[0m\u001b[37m\u001b[0m \u001b[1m7s\u001b[0m 2ms/step - accuracy: 0.5744 - loss: 0.6721 - val_accuracy: 0.5803 - val_loss: 0.6625\n",
      "Epoch 36/50\n",
      "\u001b[1m3235/3235\u001b[0m \u001b[32m━━━━━━━━━━━━━━━━━━━━\u001b[0m\u001b[37m\u001b[0m \u001b[1m6s\u001b[0m 2ms/step - accuracy: 0.5713 - loss: 0.6713 - val_accuracy: 0.5708 - val_loss: 0.6676\n",
      "Epoch 37/50\n",
      "\u001b[1m3235/3235\u001b[0m \u001b[32m━━━━━━━━━━━━━━━━━━━━\u001b[0m\u001b[37m\u001b[0m \u001b[1m8s\u001b[0m 2ms/step - accuracy: 0.5749 - loss: 0.6701 - val_accuracy: 0.5828 - val_loss: 0.6611\n",
      "Epoch 38/50\n",
      "\u001b[1m3235/3235\u001b[0m \u001b[32m━━━━━━━━━━━━━━━━━━━━\u001b[0m\u001b[37m\u001b[0m \u001b[1m8s\u001b[0m 2ms/step - accuracy: 0.5740 - loss: 0.6699 - val_accuracy: 0.5828 - val_loss: 0.6638\n",
      "Epoch 39/50\n",
      "\u001b[1m3235/3235\u001b[0m \u001b[32m━━━━━━━━━━━━━━━━━━━━\u001b[0m\u001b[37m\u001b[0m \u001b[1m8s\u001b[0m 3ms/step - accuracy: 0.5744 - loss: 0.6714 - val_accuracy: 0.5783 - val_loss: 0.6643\n",
      "Epoch 40/50\n",
      "\u001b[1m3235/3235\u001b[0m \u001b[32m━━━━━━━━━━━━━━━━━━━━\u001b[0m\u001b[37m\u001b[0m \u001b[1m6s\u001b[0m 2ms/step - accuracy: 0.5734 - loss: 0.6708 - val_accuracy: 0.5823 - val_loss: 0.6634\n",
      "Epoch 41/50\n",
      "\u001b[1m3235/3235\u001b[0m \u001b[32m━━━━━━━━━━━━━━━━━━━━\u001b[0m\u001b[37m\u001b[0m \u001b[1m6s\u001b[0m 2ms/step - accuracy: 0.5762 - loss: 0.6695 - val_accuracy: 0.5813 - val_loss: 0.6631\n",
      "Epoch 42/50\n",
      "\u001b[1m3235/3235\u001b[0m \u001b[32m━━━━━━━━━━━━━━━━━━━━\u001b[0m\u001b[37m\u001b[0m \u001b[1m6s\u001b[0m 2ms/step - accuracy: 0.5737 - loss: 0.6699 - val_accuracy: 0.5823 - val_loss: 0.6639\n",
      "Epoch 43/50\n",
      "\u001b[1m3235/3235\u001b[0m \u001b[32m━━━━━━━━━━━━━━━━━━━━\u001b[0m\u001b[37m\u001b[0m \u001b[1m5s\u001b[0m 2ms/step - accuracy: 0.5744 - loss: 0.6700 - val_accuracy: 0.5729 - val_loss: 0.6670\n",
      "Epoch 44/50\n",
      "\u001b[1m3235/3235\u001b[0m \u001b[32m━━━━━━━━━━━━━━━━━━━━\u001b[0m\u001b[37m\u001b[0m \u001b[1m6s\u001b[0m 2ms/step - accuracy: 0.5774 - loss: 0.6689 - val_accuracy: 0.5795 - val_loss: 0.6638\n",
      "Epoch 45/50\n",
      "\u001b[1m3235/3235\u001b[0m \u001b[32m━━━━━━━━━━━━━━━━━━━━\u001b[0m\u001b[37m\u001b[0m \u001b[1m5s\u001b[0m 2ms/step - accuracy: 0.5788 - loss: 0.6675 - val_accuracy: 0.5850 - val_loss: 0.6616\n",
      "Epoch 46/50\n",
      "\u001b[1m3235/3235\u001b[0m \u001b[32m━━━━━━━━━━━━━━━━━━━━\u001b[0m\u001b[37m\u001b[0m \u001b[1m5s\u001b[0m 2ms/step - accuracy: 0.5778 - loss: 0.6674 - val_accuracy: 0.5728 - val_loss: 0.6656\n",
      "Epoch 47/50\n",
      "\u001b[1m3235/3235\u001b[0m \u001b[32m━━━━━━━━━━━━━━━━━━━━\u001b[0m\u001b[37m\u001b[0m \u001b[1m6s\u001b[0m 2ms/step - accuracy: 0.5777 - loss: 0.6672 - val_accuracy: 0.5744 - val_loss: 0.6671\n",
      "Epoch 48/50\n",
      "\u001b[1m3235/3235\u001b[0m \u001b[32m━━━━━━━━━━━━━━━━━━━━\u001b[0m\u001b[37m\u001b[0m \u001b[1m6s\u001b[0m 2ms/step - accuracy: 0.5795 - loss: 0.6676 - val_accuracy: 0.5828 - val_loss: 0.6624\n",
      "Epoch 49/50\n",
      "\u001b[1m3235/3235\u001b[0m \u001b[32m━━━━━━━━━━━━━━━━━━━━\u001b[0m\u001b[37m\u001b[0m \u001b[1m6s\u001b[0m 2ms/step - accuracy: 0.5808 - loss: 0.6672 - val_accuracy: 0.5738 - val_loss: 0.6655\n",
      "Epoch 50/50\n",
      "\u001b[1m3235/3235\u001b[0m \u001b[32m━━━━━━━━━━━━━━━━━━━━\u001b[0m\u001b[37m\u001b[0m \u001b[1m8s\u001b[0m 2ms/step - accuracy: 0.5793 - loss: 0.6676 - val_accuracy: 0.5758 - val_loss: 0.6655\n"
     ]
    },
    {
     "data": {
      "text/plain": [
       "<keras.src.callbacks.history.History at 0x22984bff790>"
      ]
     },
     "execution_count": 8,
     "metadata": {},
     "output_type": "execute_result"
    }
   ],
   "source": [
    "model.compile(optimizer=\"adam\", loss = \"sparse_categorical_crossentropy\", metrics = [\"accuracy\"])\n",
    "\n",
    "model.fit(dataset, epochs = 50, validation_data = dataset_test)\n"
   ]
  },
  {
   "cell_type": "code",
   "execution_count": null,
   "metadata": {},
   "outputs": [],
   "source": []
  }
 ],
 "metadata": {
  "kernelspec": {
   "display_name": "Python 3",
   "language": "python",
   "name": "python3"
  },
  "language_info": {
   "codemirror_mode": {
    "name": "ipython",
    "version": 3
   },
   "file_extension": ".py",
   "mimetype": "text/x-python",
   "name": "python",
   "nbconvert_exporter": "python",
   "pygments_lexer": "ipython3",
   "version": "3.11.5"
  }
 },
 "nbformat": 4,
 "nbformat_minor": 2
}
